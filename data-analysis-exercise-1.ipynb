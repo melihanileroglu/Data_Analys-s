{
 "cells": [
  {
   "cell_type": "code",
   "execution_count": 1,
   "id": "05275a06",
   "metadata": {
    "execution": {
     "iopub.execute_input": "2022-10-18T12:10:53.378134Z",
     "iopub.status.busy": "2022-10-18T12:10:53.377111Z",
     "iopub.status.idle": "2022-10-18T12:10:53.389895Z",
     "shell.execute_reply": "2022-10-18T12:10:53.389207Z"
    },
    "papermill": {
     "duration": 0.02593,
     "end_time": "2022-10-18T12:10:53.391958",
     "exception": false,
     "start_time": "2022-10-18T12:10:53.366028",
     "status": "completed"
    },
    "tags": []
   },
   "outputs": [],
   "source": [
    "import numpy as np\n",
    "import pandas as pd\n",
    "import matplotlib.pyplot as plt\n",
    "%matplotlib inline"
   ]
  },
  {
   "cell_type": "code",
   "execution_count": 2,
   "id": "8000bc9f",
   "metadata": {
    "execution": {
     "iopub.execute_input": "2022-10-18T12:10:53.408328Z",
     "iopub.status.busy": "2022-10-18T12:10:53.407589Z",
     "iopub.status.idle": "2022-10-18T12:10:53.766238Z",
     "shell.execute_reply": "2022-10-18T12:10:53.765233Z"
    },
    "papermill": {
     "duration": 0.369159,
     "end_time": "2022-10-18T12:10:53.768586",
     "exception": false,
     "start_time": "2022-10-18T12:10:53.399427",
     "status": "completed"
    },
    "tags": []
   },
   "outputs": [],
   "source": [
    "sales_data = pd.read_csv(\"../input/data-excercise/sales_data.csv\") #read file csv"
   ]
  },
  {
   "cell_type": "code",
   "execution_count": 3,
   "id": "63297d0a",
   "metadata": {
    "execution": {
     "iopub.execute_input": "2022-10-18T12:10:53.783803Z",
     "iopub.status.busy": "2022-10-18T12:10:53.783435Z",
     "iopub.status.idle": "2022-10-18T12:10:53.809807Z",
     "shell.execute_reply": "2022-10-18T12:10:53.809157Z"
    },
    "papermill": {
     "duration": 0.035985,
     "end_time": "2022-10-18T12:10:53.811841",
     "exception": false,
     "start_time": "2022-10-18T12:10:53.775856",
     "status": "completed"
    },
    "tags": []
   },
   "outputs": [
    {
     "data": {
      "text/html": [
       "<div>\n",
       "<style scoped>\n",
       "    .dataframe tbody tr th:only-of-type {\n",
       "        vertical-align: middle;\n",
       "    }\n",
       "\n",
       "    .dataframe tbody tr th {\n",
       "        vertical-align: top;\n",
       "    }\n",
       "\n",
       "    .dataframe thead th {\n",
       "        text-align: right;\n",
       "    }\n",
       "</style>\n",
       "<table border=\"1\" class=\"dataframe\">\n",
       "  <thead>\n",
       "    <tr style=\"text-align: right;\">\n",
       "      <th></th>\n",
       "      <th>Date</th>\n",
       "      <th>Day</th>\n",
       "      <th>Month</th>\n",
       "      <th>Year</th>\n",
       "      <th>Customer_Age</th>\n",
       "      <th>Age_Group</th>\n",
       "      <th>Customer_Gender</th>\n",
       "      <th>Country</th>\n",
       "      <th>State</th>\n",
       "      <th>Product_Category</th>\n",
       "      <th>Sub_Category</th>\n",
       "      <th>Product</th>\n",
       "      <th>Order_Quantity</th>\n",
       "      <th>Unit_Cost</th>\n",
       "      <th>Unit_Price</th>\n",
       "      <th>Profit</th>\n",
       "      <th>Cost</th>\n",
       "      <th>Revenue</th>\n",
       "    </tr>\n",
       "  </thead>\n",
       "  <tbody>\n",
       "    <tr>\n",
       "      <th>0</th>\n",
       "      <td>2013-11-26</td>\n",
       "      <td>26</td>\n",
       "      <td>November</td>\n",
       "      <td>2013</td>\n",
       "      <td>19</td>\n",
       "      <td>Youth (&lt;25)</td>\n",
       "      <td>M</td>\n",
       "      <td>Canada</td>\n",
       "      <td>British Columbia</td>\n",
       "      <td>Accessories</td>\n",
       "      <td>Bike Racks</td>\n",
       "      <td>Hitch Rack - 4-Bike</td>\n",
       "      <td>8</td>\n",
       "      <td>45</td>\n",
       "      <td>120</td>\n",
       "      <td>590</td>\n",
       "      <td>360</td>\n",
       "      <td>950</td>\n",
       "    </tr>\n",
       "    <tr>\n",
       "      <th>1</th>\n",
       "      <td>2015-11-26</td>\n",
       "      <td>26</td>\n",
       "      <td>November</td>\n",
       "      <td>2015</td>\n",
       "      <td>19</td>\n",
       "      <td>Youth (&lt;25)</td>\n",
       "      <td>M</td>\n",
       "      <td>Canada</td>\n",
       "      <td>British Columbia</td>\n",
       "      <td>Accessories</td>\n",
       "      <td>Bike Racks</td>\n",
       "      <td>Hitch Rack - 4-Bike</td>\n",
       "      <td>8</td>\n",
       "      <td>45</td>\n",
       "      <td>120</td>\n",
       "      <td>590</td>\n",
       "      <td>360</td>\n",
       "      <td>950</td>\n",
       "    </tr>\n",
       "    <tr>\n",
       "      <th>2</th>\n",
       "      <td>2014-03-23</td>\n",
       "      <td>23</td>\n",
       "      <td>March</td>\n",
       "      <td>2014</td>\n",
       "      <td>49</td>\n",
       "      <td>Adults (35-64)</td>\n",
       "      <td>M</td>\n",
       "      <td>Australia</td>\n",
       "      <td>New South Wales</td>\n",
       "      <td>Accessories</td>\n",
       "      <td>Bike Racks</td>\n",
       "      <td>Hitch Rack - 4-Bike</td>\n",
       "      <td>23</td>\n",
       "      <td>45</td>\n",
       "      <td>120</td>\n",
       "      <td>1366</td>\n",
       "      <td>1035</td>\n",
       "      <td>2401</td>\n",
       "    </tr>\n",
       "    <tr>\n",
       "      <th>3</th>\n",
       "      <td>2016-03-23</td>\n",
       "      <td>23</td>\n",
       "      <td>March</td>\n",
       "      <td>2016</td>\n",
       "      <td>49</td>\n",
       "      <td>Adults (35-64)</td>\n",
       "      <td>M</td>\n",
       "      <td>Australia</td>\n",
       "      <td>New South Wales</td>\n",
       "      <td>Accessories</td>\n",
       "      <td>Bike Racks</td>\n",
       "      <td>Hitch Rack - 4-Bike</td>\n",
       "      <td>20</td>\n",
       "      <td>45</td>\n",
       "      <td>120</td>\n",
       "      <td>1188</td>\n",
       "      <td>900</td>\n",
       "      <td>2088</td>\n",
       "    </tr>\n",
       "    <tr>\n",
       "      <th>4</th>\n",
       "      <td>2014-05-15</td>\n",
       "      <td>15</td>\n",
       "      <td>May</td>\n",
       "      <td>2014</td>\n",
       "      <td>47</td>\n",
       "      <td>Adults (35-64)</td>\n",
       "      <td>F</td>\n",
       "      <td>Australia</td>\n",
       "      <td>New South Wales</td>\n",
       "      <td>Accessories</td>\n",
       "      <td>Bike Racks</td>\n",
       "      <td>Hitch Rack - 4-Bike</td>\n",
       "      <td>4</td>\n",
       "      <td>45</td>\n",
       "      <td>120</td>\n",
       "      <td>238</td>\n",
       "      <td>180</td>\n",
       "      <td>418</td>\n",
       "    </tr>\n",
       "  </tbody>\n",
       "</table>\n",
       "</div>"
      ],
      "text/plain": [
       "         Date  Day     Month  Year  Customer_Age       Age_Group  \\\n",
       "0  2013-11-26   26  November  2013            19     Youth (<25)   \n",
       "1  2015-11-26   26  November  2015            19     Youth (<25)   \n",
       "2  2014-03-23   23     March  2014            49  Adults (35-64)   \n",
       "3  2016-03-23   23     March  2016            49  Adults (35-64)   \n",
       "4  2014-05-15   15       May  2014            47  Adults (35-64)   \n",
       "\n",
       "  Customer_Gender    Country             State Product_Category Sub_Category  \\\n",
       "0               M     Canada  British Columbia      Accessories   Bike Racks   \n",
       "1               M     Canada  British Columbia      Accessories   Bike Racks   \n",
       "2               M  Australia   New South Wales      Accessories   Bike Racks   \n",
       "3               M  Australia   New South Wales      Accessories   Bike Racks   \n",
       "4               F  Australia   New South Wales      Accessories   Bike Racks   \n",
       "\n",
       "               Product  Order_Quantity  Unit_Cost  Unit_Price  Profit  Cost  \\\n",
       "0  Hitch Rack - 4-Bike               8         45         120     590   360   \n",
       "1  Hitch Rack - 4-Bike               8         45         120     590   360   \n",
       "2  Hitch Rack - 4-Bike              23         45         120    1366  1035   \n",
       "3  Hitch Rack - 4-Bike              20         45         120    1188   900   \n",
       "4  Hitch Rack - 4-Bike               4         45         120     238   180   \n",
       "\n",
       "   Revenue  \n",
       "0      950  \n",
       "1      950  \n",
       "2     2401  \n",
       "3     2088  \n",
       "4      418  "
      ]
     },
     "execution_count": 3,
     "metadata": {},
     "output_type": "execute_result"
    }
   ],
   "source": [
    "sales_data.head()  #data at a glance"
   ]
  },
  {
   "cell_type": "code",
   "execution_count": 4,
   "id": "b1516f43",
   "metadata": {
    "execution": {
     "iopub.execute_input": "2022-10-18T12:10:53.826951Z",
     "iopub.status.busy": "2022-10-18T12:10:53.826661Z",
     "iopub.status.idle": "2022-10-18T12:10:53.831968Z",
     "shell.execute_reply": "2022-10-18T12:10:53.831098Z"
    },
    "papermill": {
     "duration": 0.014774,
     "end_time": "2022-10-18T12:10:53.833658",
     "exception": false,
     "start_time": "2022-10-18T12:10:53.818884",
     "status": "completed"
    },
    "tags": []
   },
   "outputs": [
    {
     "data": {
      "text/plain": [
       "(113036, 18)"
      ]
     },
     "execution_count": 4,
     "metadata": {},
     "output_type": "execute_result"
    }
   ],
   "source": [
    "sales_data.shape #how many rows and columns"
   ]
  },
  {
   "cell_type": "code",
   "execution_count": 5,
   "id": "07257e30",
   "metadata": {
    "execution": {
     "iopub.execute_input": "2022-10-18T12:10:53.848691Z",
     "iopub.status.busy": "2022-10-18T12:10:53.848348Z",
     "iopub.status.idle": "2022-10-18T12:10:53.906907Z",
     "shell.execute_reply": "2022-10-18T12:10:53.905590Z"
    },
    "papermill": {
     "duration": 0.06851,
     "end_time": "2022-10-18T12:10:53.908987",
     "exception": false,
     "start_time": "2022-10-18T12:10:53.840477",
     "status": "completed"
    },
    "tags": []
   },
   "outputs": [
    {
     "name": "stdout",
     "output_type": "stream",
     "text": [
      "<class 'pandas.core.frame.DataFrame'>\n",
      "RangeIndex: 113036 entries, 0 to 113035\n",
      "Data columns (total 18 columns):\n",
      " #   Column            Non-Null Count   Dtype \n",
      "---  ------            --------------   ----- \n",
      " 0   Date              113036 non-null  object\n",
      " 1   Day               113036 non-null  int64 \n",
      " 2   Month             113036 non-null  object\n",
      " 3   Year              113036 non-null  int64 \n",
      " 4   Customer_Age      113036 non-null  int64 \n",
      " 5   Age_Group         113036 non-null  object\n",
      " 6   Customer_Gender   113036 non-null  object\n",
      " 7   Country           113036 non-null  object\n",
      " 8   State             113036 non-null  object\n",
      " 9   Product_Category  113036 non-null  object\n",
      " 10  Sub_Category      113036 non-null  object\n",
      " 11  Product           113036 non-null  object\n",
      " 12  Order_Quantity    113036 non-null  int64 \n",
      " 13  Unit_Cost         113036 non-null  int64 \n",
      " 14  Unit_Price        113036 non-null  int64 \n",
      " 15  Profit            113036 non-null  int64 \n",
      " 16  Cost              113036 non-null  int64 \n",
      " 17  Revenue           113036 non-null  int64 \n",
      "dtypes: int64(9), object(9)\n",
      "memory usage: 15.5+ MB\n"
     ]
    }
   ],
   "source": [
    "sales_data.info() # information of data "
   ]
  },
  {
   "cell_type": "code",
   "execution_count": 6,
   "id": "30a0d9ae",
   "metadata": {
    "execution": {
     "iopub.execute_input": "2022-10-18T12:10:53.926203Z",
     "iopub.status.busy": "2022-10-18T12:10:53.925491Z",
     "iopub.status.idle": "2022-10-18T12:10:53.981924Z",
     "shell.execute_reply": "2022-10-18T12:10:53.981059Z"
    },
    "papermill": {
     "duration": 0.065982,
     "end_time": "2022-10-18T12:10:53.983639",
     "exception": false,
     "start_time": "2022-10-18T12:10:53.917657",
     "status": "completed"
    },
    "tags": []
   },
   "outputs": [
    {
     "data": {
      "text/html": [
       "<div>\n",
       "<style scoped>\n",
       "    .dataframe tbody tr th:only-of-type {\n",
       "        vertical-align: middle;\n",
       "    }\n",
       "\n",
       "    .dataframe tbody tr th {\n",
       "        vertical-align: top;\n",
       "    }\n",
       "\n",
       "    .dataframe thead th {\n",
       "        text-align: right;\n",
       "    }\n",
       "</style>\n",
       "<table border=\"1\" class=\"dataframe\">\n",
       "  <thead>\n",
       "    <tr style=\"text-align: right;\">\n",
       "      <th></th>\n",
       "      <th>Day</th>\n",
       "      <th>Year</th>\n",
       "      <th>Customer_Age</th>\n",
       "      <th>Order_Quantity</th>\n",
       "      <th>Unit_Cost</th>\n",
       "      <th>Unit_Price</th>\n",
       "      <th>Profit</th>\n",
       "      <th>Cost</th>\n",
       "      <th>Revenue</th>\n",
       "    </tr>\n",
       "  </thead>\n",
       "  <tbody>\n",
       "    <tr>\n",
       "      <th>count</th>\n",
       "      <td>113036.000000</td>\n",
       "      <td>113036.000000</td>\n",
       "      <td>113036.000000</td>\n",
       "      <td>113036.000000</td>\n",
       "      <td>113036.000000</td>\n",
       "      <td>113036.000000</td>\n",
       "      <td>113036.000000</td>\n",
       "      <td>113036.000000</td>\n",
       "      <td>113036.000000</td>\n",
       "    </tr>\n",
       "    <tr>\n",
       "      <th>mean</th>\n",
       "      <td>15.665753</td>\n",
       "      <td>2014.401739</td>\n",
       "      <td>35.919212</td>\n",
       "      <td>11.901660</td>\n",
       "      <td>267.296366</td>\n",
       "      <td>452.938427</td>\n",
       "      <td>285.051665</td>\n",
       "      <td>469.318695</td>\n",
       "      <td>754.370360</td>\n",
       "    </tr>\n",
       "    <tr>\n",
       "      <th>std</th>\n",
       "      <td>8.781567</td>\n",
       "      <td>1.272510</td>\n",
       "      <td>11.021936</td>\n",
       "      <td>9.561857</td>\n",
       "      <td>549.835483</td>\n",
       "      <td>922.071219</td>\n",
       "      <td>453.887443</td>\n",
       "      <td>884.866118</td>\n",
       "      <td>1309.094674</td>\n",
       "    </tr>\n",
       "    <tr>\n",
       "      <th>min</th>\n",
       "      <td>1.000000</td>\n",
       "      <td>2011.000000</td>\n",
       "      <td>17.000000</td>\n",
       "      <td>1.000000</td>\n",
       "      <td>1.000000</td>\n",
       "      <td>2.000000</td>\n",
       "      <td>-30.000000</td>\n",
       "      <td>1.000000</td>\n",
       "      <td>2.000000</td>\n",
       "    </tr>\n",
       "    <tr>\n",
       "      <th>25%</th>\n",
       "      <td>8.000000</td>\n",
       "      <td>2013.000000</td>\n",
       "      <td>28.000000</td>\n",
       "      <td>2.000000</td>\n",
       "      <td>2.000000</td>\n",
       "      <td>5.000000</td>\n",
       "      <td>29.000000</td>\n",
       "      <td>28.000000</td>\n",
       "      <td>63.000000</td>\n",
       "    </tr>\n",
       "    <tr>\n",
       "      <th>50%</th>\n",
       "      <td>16.000000</td>\n",
       "      <td>2014.000000</td>\n",
       "      <td>35.000000</td>\n",
       "      <td>10.000000</td>\n",
       "      <td>9.000000</td>\n",
       "      <td>24.000000</td>\n",
       "      <td>101.000000</td>\n",
       "      <td>108.000000</td>\n",
       "      <td>223.000000</td>\n",
       "    </tr>\n",
       "    <tr>\n",
       "      <th>75%</th>\n",
       "      <td>23.000000</td>\n",
       "      <td>2016.000000</td>\n",
       "      <td>43.000000</td>\n",
       "      <td>20.000000</td>\n",
       "      <td>42.000000</td>\n",
       "      <td>70.000000</td>\n",
       "      <td>358.000000</td>\n",
       "      <td>432.000000</td>\n",
       "      <td>800.000000</td>\n",
       "    </tr>\n",
       "    <tr>\n",
       "      <th>max</th>\n",
       "      <td>31.000000</td>\n",
       "      <td>2016.000000</td>\n",
       "      <td>87.000000</td>\n",
       "      <td>32.000000</td>\n",
       "      <td>2171.000000</td>\n",
       "      <td>3578.000000</td>\n",
       "      <td>15096.000000</td>\n",
       "      <td>42978.000000</td>\n",
       "      <td>58074.000000</td>\n",
       "    </tr>\n",
       "  </tbody>\n",
       "</table>\n",
       "</div>"
      ],
      "text/plain": [
       "                 Day           Year   Customer_Age  Order_Quantity  \\\n",
       "count  113036.000000  113036.000000  113036.000000   113036.000000   \n",
       "mean       15.665753    2014.401739      35.919212       11.901660   \n",
       "std         8.781567       1.272510      11.021936        9.561857   \n",
       "min         1.000000    2011.000000      17.000000        1.000000   \n",
       "25%         8.000000    2013.000000      28.000000        2.000000   \n",
       "50%        16.000000    2014.000000      35.000000       10.000000   \n",
       "75%        23.000000    2016.000000      43.000000       20.000000   \n",
       "max        31.000000    2016.000000      87.000000       32.000000   \n",
       "\n",
       "           Unit_Cost     Unit_Price         Profit           Cost  \\\n",
       "count  113036.000000  113036.000000  113036.000000  113036.000000   \n",
       "mean      267.296366     452.938427     285.051665     469.318695   \n",
       "std       549.835483     922.071219     453.887443     884.866118   \n",
       "min         1.000000       2.000000     -30.000000       1.000000   \n",
       "25%         2.000000       5.000000      29.000000      28.000000   \n",
       "50%         9.000000      24.000000     101.000000     108.000000   \n",
       "75%        42.000000      70.000000     358.000000     432.000000   \n",
       "max      2171.000000    3578.000000   15096.000000   42978.000000   \n",
       "\n",
       "             Revenue  \n",
       "count  113036.000000  \n",
       "mean      754.370360  \n",
       "std      1309.094674  \n",
       "min         2.000000  \n",
       "25%        63.000000  \n",
       "50%       223.000000  \n",
       "75%       800.000000  \n",
       "max     58074.000000  "
      ]
     },
     "execution_count": 6,
     "metadata": {},
     "output_type": "execute_result"
    }
   ],
   "source": [
    "sales_data.describe() #statistical information"
   ]
  },
  {
   "cell_type": "code",
   "execution_count": 7,
   "id": "5857ba24",
   "metadata": {
    "execution": {
     "iopub.execute_input": "2022-10-18T12:10:53.999471Z",
     "iopub.status.busy": "2022-10-18T12:10:53.999192Z",
     "iopub.status.idle": "2022-10-18T12:10:56.725129Z",
     "shell.execute_reply": "2022-10-18T12:10:56.724252Z"
    },
    "papermill": {
     "duration": 2.736372,
     "end_time": "2022-10-18T12:10:56.727464",
     "exception": false,
     "start_time": "2022-10-18T12:10:53.991092",
     "status": "completed"
    },
    "tags": []
   },
   "outputs": [
    {
     "data": {
      "text/plain": [
       "<AxesSubplot:ylabel='Density'>"
      ]
     },
     "execution_count": 7,
     "metadata": {},
     "output_type": "execute_result"
    },
    {
     "data": {
      "image/png": "[encoded data removed]",
      "text/plain": [
       "<Figure size 720x288 with 1 Axes>"
      ]
     },
     "metadata": {
      "needs_background": "light"
     },
     "output_type": "display_data"
    }
   ],
   "source": [
    "sales_data[\"Unit_Cost\"].plot(kind=\"density\",figsize=(10,4)) #kde"
   ]
  },
  {
   "cell_type": "code",
   "execution_count": 8,
   "id": "900be518",
   "metadata": {
    "execution": {
     "iopub.execute_input": "2022-10-18T12:10:56.745028Z",
     "iopub.status.busy": "2022-10-18T12:10:56.744713Z",
     "iopub.status.idle": "2022-10-18T12:10:58.783531Z",
     "shell.execute_reply": "2022-10-18T12:10:58.782640Z"
    },
    "papermill": {
     "duration": 2.049917,
     "end_time": "2022-10-18T12:10:58.785631",
     "exception": false,
     "start_time": "2022-10-18T12:10:56.735714",
     "status": "completed"
    },
    "tags": []
   },
   "outputs": [
    {
     "data": {
      "text/plain": [
       "<matplotlib.lines.Line2D at 0x7f6fc6726990>"
      ]
     },
     "execution_count": 8,
     "metadata": {},
     "output_type": "execute_result"
    },
    {
     "data": {
      "image/png": "[encoded data removed]",
      "text/plain": [
       "<Figure size 720x288 with 1 Axes>"
      ]
     },
     "metadata": {
      "needs_background": "light"
     },
     "output_type": "display_data"
    }
   ],
   "source": [
    "ax = sales_data[\"Unit_Cost\"].plot(kind=\"density\",figsize=(10,4))\n",
    "ax.axvline(sales_data[\"Unit_Cost\"].mean(),color=\"red\")\n",
    "ax.axvline(sales_data[\"Unit_Cost\"].median(),color=\"gray\")\n"
   ]
  },
  {
   "cell_type": "code",
   "execution_count": 9,
   "id": "3c0d3270",
   "metadata": {
    "execution": {
     "iopub.execute_input": "2022-10-18T12:10:58.804786Z",
     "iopub.status.busy": "2022-10-18T12:10:58.804444Z",
     "iopub.status.idle": "2022-10-18T12:10:59.007414Z",
     "shell.execute_reply": "2022-10-18T12:10:59.006455Z"
    },
    "papermill": {
     "duration": 0.215083,
     "end_time": "2022-10-18T12:10:59.009802",
     "exception": false,
     "start_time": "2022-10-18T12:10:58.794719",
     "status": "completed"
    },
    "tags": []
   },
   "outputs": [
    {
     "data": {
      "text/plain": [
       "Text(0.5, 0, 'Dollars')"
      ]
     },
     "execution_count": 9,
     "metadata": {},
     "output_type": "execute_result"
    },
    {
     "data": {
      "image/png": "[encoded data removed]",
      "text/plain": [
       "<Figure size 720x288 with 1 Axes>"
      ]
     },
     "metadata": {
      "needs_background": "light"
     },
     "output_type": "display_data"
    }
   ],
   "source": [
    "ax = sales_data[\"Unit_Cost\"].plot(kind=\"hist\",figsize=(10,4)) #histogram\n",
    "ax.set_ylabel(\"Number of Sales\")\n",
    "ax.set_xlabel(\"Dollars\")  "
   ]
  },
  {
   "cell_type": "code",
   "execution_count": 10,
   "id": "ccda5887",
   "metadata": {
    "execution": {
     "iopub.execute_input": "2022-10-18T12:10:59.027782Z",
     "iopub.status.busy": "2022-10-18T12:10:59.027474Z",
     "iopub.status.idle": "2022-10-18T12:10:59.039743Z",
     "shell.execute_reply": "2022-10-18T12:10:59.038879Z"
    },
    "papermill": {
     "duration": 0.023168,
     "end_time": "2022-10-18T12:10:59.041466",
     "exception": false,
     "start_time": "2022-10-18T12:10:59.018298",
     "status": "completed"
    },
    "tags": []
   },
   "outputs": [
    {
     "data": {
      "text/plain": [
       "Adults (35-64)          55824\n",
       "Young Adults (25-34)    38654\n",
       "Youth (<25)             17828\n",
       "Seniors (64+)             730\n",
       "Name: Age_Group, dtype: int64"
      ]
     },
     "execution_count": 10,
     "metadata": {},
     "output_type": "execute_result"
    }
   ],
   "source": [
    "sales_data[\"Age_Group\"].value_counts()"
   ]
  },
  {
   "cell_type": "code",
   "execution_count": 11,
   "id": "124b0563",
   "metadata": {
    "execution": {
     "iopub.execute_input": "2022-10-18T12:10:59.059220Z",
     "iopub.status.busy": "2022-10-18T12:10:59.058952Z",
     "iopub.status.idle": "2022-10-18T12:10:59.171934Z",
     "shell.execute_reply": "2022-10-18T12:10:59.170487Z"
    },
    "papermill": {
     "duration": 0.12752,
     "end_time": "2022-10-18T12:10:59.177259",
     "exception": false,
     "start_time": "2022-10-18T12:10:59.049739",
     "status": "completed"
    },
    "tags": []
   },
   "outputs": [
    {
     "data": {
      "image/png": "[encoded data removed]",
      "text/plain": [
       "<Figure size 720x288 with 1 Axes>"
      ]
     },
     "metadata": {},
     "output_type": "display_data"
    }
   ],
   "source": [
    "ax = sales_data[\"Age_Group\"].value_counts().plot(kind=\"pie\",figsize=(10,4)) #pie chart"
   ]
  },
  {
   "cell_type": "code",
   "execution_count": 12,
   "id": "afafaf96",
   "metadata": {
    "execution": {
     "iopub.execute_input": "2022-10-18T12:10:59.229118Z",
     "iopub.status.busy": "2022-10-18T12:10:59.228146Z",
     "iopub.status.idle": "2022-10-18T12:10:59.442828Z",
     "shell.execute_reply": "2022-10-18T12:10:59.442048Z"
    },
    "papermill": {
     "duration": 0.24284,
     "end_time": "2022-10-18T12:10:59.444869",
     "exception": false,
     "start_time": "2022-10-18T12:10:59.202029",
     "status": "completed"
    },
    "tags": []
   },
   "outputs": [
    {
     "data": {
      "text/plain": [
       "Text(0.5, 0, 'People of Age')"
      ]
     },
     "execution_count": 12,
     "metadata": {},
     "output_type": "execute_result"
    },
    {
     "data": {
      "image/png": "[encoded data removed]",
      "text/plain": [
       "<Figure size 720x288 with 1 Axes>"
      ]
     },
     "metadata": {
      "needs_background": "light"
     },
     "output_type": "display_data"
    }
   ],
   "source": [
    "ax = sales_data[\"Age_Group\"].value_counts().plot(kind=\"bar\",figsize=(10,4))\n",
    "ax.set_ylabel(\"Number of Age\")\n",
    "ax.set_xlabel(\"People of Age\")"
   ]
  },
  {
   "cell_type": "markdown",
   "id": "907f34f0",
   "metadata": {
    "papermill": {
     "duration": 0.008713,
     "end_time": "2022-10-18T12:10:59.462858",
     "exception": false,
     "start_time": "2022-10-18T12:10:59.454145",
     "status": "completed"
    },
    "tags": []
   },
   "source": [
    "# Relationship Between the Columns "
   ]
  },
  {
   "cell_type": "code",
   "execution_count": 13,
   "id": "6d0e6517",
   "metadata": {
    "execution": {
     "iopub.execute_input": "2022-10-18T12:10:59.482363Z",
     "iopub.status.busy": "2022-10-18T12:10:59.482073Z",
     "iopub.status.idle": "2022-10-18T12:10:59.531463Z",
     "shell.execute_reply": "2022-10-18T12:10:59.530305Z"
    },
    "papermill": {
     "duration": 0.061674,
     "end_time": "2022-10-18T12:10:59.533860",
     "exception": false,
     "start_time": "2022-10-18T12:10:59.472186",
     "status": "completed"
    },
    "tags": []
   },
   "outputs": [
    {
     "data": {
      "text/html": [
       "<div>\n",
       "<style scoped>\n",
       "    .dataframe tbody tr th:only-of-type {\n",
       "        vertical-align: middle;\n",
       "    }\n",
       "\n",
       "    .dataframe tbody tr th {\n",
       "        vertical-align: top;\n",
       "    }\n",
       "\n",
       "    .dataframe thead th {\n",
       "        text-align: right;\n",
       "    }\n",
       "</style>\n",
       "<table border=\"1\" class=\"dataframe\">\n",
       "  <thead>\n",
       "    <tr style=\"text-align: right;\">\n",
       "      <th></th>\n",
       "      <th>Day</th>\n",
       "      <th>Year</th>\n",
       "      <th>Customer_Age</th>\n",
       "      <th>Order_Quantity</th>\n",
       "      <th>Unit_Cost</th>\n",
       "      <th>Unit_Price</th>\n",
       "      <th>Profit</th>\n",
       "      <th>Cost</th>\n",
       "      <th>Revenue</th>\n",
       "    </tr>\n",
       "  </thead>\n",
       "  <tbody>\n",
       "    <tr>\n",
       "      <th>Day</th>\n",
       "      <td>1.000000</td>\n",
       "      <td>-0.007635</td>\n",
       "      <td>-0.014296</td>\n",
       "      <td>-0.002412</td>\n",
       "      <td>0.003133</td>\n",
       "      <td>0.003207</td>\n",
       "      <td>0.004623</td>\n",
       "      <td>0.003329</td>\n",
       "      <td>0.003853</td>\n",
       "    </tr>\n",
       "    <tr>\n",
       "      <th>Year</th>\n",
       "      <td>-0.007635</td>\n",
       "      <td>1.000000</td>\n",
       "      <td>0.040994</td>\n",
       "      <td>0.123169</td>\n",
       "      <td>-0.217575</td>\n",
       "      <td>-0.213673</td>\n",
       "      <td>-0.181525</td>\n",
       "      <td>-0.215604</td>\n",
       "      <td>-0.208673</td>\n",
       "    </tr>\n",
       "    <tr>\n",
       "      <th>Customer_Age</th>\n",
       "      <td>-0.014296</td>\n",
       "      <td>0.040994</td>\n",
       "      <td>1.000000</td>\n",
       "      <td>0.026887</td>\n",
       "      <td>-0.021374</td>\n",
       "      <td>-0.020262</td>\n",
       "      <td>0.004319</td>\n",
       "      <td>-0.016013</td>\n",
       "      <td>-0.009326</td>\n",
       "    </tr>\n",
       "    <tr>\n",
       "      <th>Order_Quantity</th>\n",
       "      <td>-0.002412</td>\n",
       "      <td>0.123169</td>\n",
       "      <td>0.026887</td>\n",
       "      <td>1.000000</td>\n",
       "      <td>-0.515835</td>\n",
       "      <td>-0.515925</td>\n",
       "      <td>-0.238863</td>\n",
       "      <td>-0.340382</td>\n",
       "      <td>-0.312895</td>\n",
       "    </tr>\n",
       "    <tr>\n",
       "      <th>Unit_Cost</th>\n",
       "      <td>0.003133</td>\n",
       "      <td>-0.217575</td>\n",
       "      <td>-0.021374</td>\n",
       "      <td>-0.515835</td>\n",
       "      <td>1.000000</td>\n",
       "      <td>0.997894</td>\n",
       "      <td>0.741020</td>\n",
       "      <td>0.829869</td>\n",
       "      <td>0.817865</td>\n",
       "    </tr>\n",
       "    <tr>\n",
       "      <th>Unit_Price</th>\n",
       "      <td>0.003207</td>\n",
       "      <td>-0.213673</td>\n",
       "      <td>-0.020262</td>\n",
       "      <td>-0.515925</td>\n",
       "      <td>0.997894</td>\n",
       "      <td>1.000000</td>\n",
       "      <td>0.749870</td>\n",
       "      <td>0.826301</td>\n",
       "      <td>0.818522</td>\n",
       "    </tr>\n",
       "    <tr>\n",
       "      <th>Profit</th>\n",
       "      <td>0.004623</td>\n",
       "      <td>-0.181525</td>\n",
       "      <td>0.004319</td>\n",
       "      <td>-0.238863</td>\n",
       "      <td>0.741020</td>\n",
       "      <td>0.749870</td>\n",
       "      <td>1.000000</td>\n",
       "      <td>0.902233</td>\n",
       "      <td>0.956572</td>\n",
       "    </tr>\n",
       "    <tr>\n",
       "      <th>Cost</th>\n",
       "      <td>0.003329</td>\n",
       "      <td>-0.215604</td>\n",
       "      <td>-0.016013</td>\n",
       "      <td>-0.340382</td>\n",
       "      <td>0.829869</td>\n",
       "      <td>0.826301</td>\n",
       "      <td>0.902233</td>\n",
       "      <td>1.000000</td>\n",
       "      <td>0.988758</td>\n",
       "    </tr>\n",
       "    <tr>\n",
       "      <th>Revenue</th>\n",
       "      <td>0.003853</td>\n",
       "      <td>-0.208673</td>\n",
       "      <td>-0.009326</td>\n",
       "      <td>-0.312895</td>\n",
       "      <td>0.817865</td>\n",
       "      <td>0.818522</td>\n",
       "      <td>0.956572</td>\n",
       "      <td>0.988758</td>\n",
       "      <td>1.000000</td>\n",
       "    </tr>\n",
       "  </tbody>\n",
       "</table>\n",
       "</div>"
      ],
      "text/plain": [
       "                     Day      Year  Customer_Age  Order_Quantity  Unit_Cost  \\\n",
       "Day             1.000000 -0.007635     -0.014296       -0.002412   0.003133   \n",
       "Year           -0.007635  1.000000      0.040994        0.123169  -0.217575   \n",
       "Customer_Age   -0.014296  0.040994      1.000000        0.026887  -0.021374   \n",
       "Order_Quantity -0.002412  0.123169      0.026887        1.000000  -0.515835   \n",
       "Unit_Cost       0.003133 -0.217575     -0.021374       -0.515835   1.000000   \n",
       "Unit_Price      0.003207 -0.213673     -0.020262       -0.515925   0.997894   \n",
       "Profit          0.004623 -0.181525      0.004319       -0.238863   0.741020   \n",
       "Cost            0.003329 -0.215604     -0.016013       -0.340382   0.829869   \n",
       "Revenue         0.003853 -0.208673     -0.009326       -0.312895   0.817865   \n",
       "\n",
       "                Unit_Price    Profit      Cost   Revenue  \n",
       "Day               0.003207  0.004623  0.003329  0.003853  \n",
       "Year             -0.213673 -0.181525 -0.215604 -0.208673  \n",
       "Customer_Age     -0.020262  0.004319 -0.016013 -0.009326  \n",
       "Order_Quantity   -0.515925 -0.238863 -0.340382 -0.312895  \n",
       "Unit_Cost         0.997894  0.741020  0.829869  0.817865  \n",
       "Unit_Price        1.000000  0.749870  0.826301  0.818522  \n",
       "Profit            0.749870  1.000000  0.902233  0.956572  \n",
       "Cost              0.826301  0.902233  1.000000  0.988758  \n",
       "Revenue           0.818522  0.956572  0.988758  1.000000  "
      ]
     },
     "execution_count": 13,
     "metadata": {},
     "output_type": "execute_result"
    }
   ],
   "source": [
    "corr = sales_data.corr() # correlation analysis\n",
    "corr"
   ]
  },
  {
   "cell_type": "code",
   "execution_count": 14,
   "id": "b115e551",
   "metadata": {
    "execution": {
     "iopub.execute_input": "2022-10-18T12:10:59.553912Z",
     "iopub.status.busy": "2022-10-18T12:10:59.553547Z",
     "iopub.status.idle": "2022-10-18T12:10:59.897901Z",
     "shell.execute_reply": "2022-10-18T12:10:59.896674Z"
    },
    "papermill": {
     "duration": 0.357459,
     "end_time": "2022-10-18T12:10:59.900840",
     "exception": false,
     "start_time": "2022-10-18T12:10:59.543381",
     "status": "completed"
    },
    "tags": []
   },
   "outputs": [
    {
     "data": {
      "text/plain": [
       "([<matplotlib.axis.YTick at 0x7f6fc655d2d0>,\n",
       "  <matplotlib.axis.YTick at 0x7f6fc66ae0d0>,\n",
       "  <matplotlib.axis.YTick at 0x7f6fc6546a10>,\n",
       "  <matplotlib.axis.YTick at 0x7f6fc6525590>,\n",
       "  <matplotlib.axis.YTick at 0x7f6fc65257d0>,\n",
       "  <matplotlib.axis.YTick at 0x7f6fc64ae3d0>,\n",
       "  <matplotlib.axis.YTick at 0x7f6fc64ae4d0>,\n",
       "  <matplotlib.axis.YTick at 0x7f6fc651c7d0>,\n",
       "  <matplotlib.axis.YTick at 0x7f6fc64aee50>],\n",
       " [Text(0, 0, 'Day'),\n",
       "  Text(0, 1, 'Year'),\n",
       "  Text(0, 2, 'Customer_Age'),\n",
       "  Text(0, 3, 'Order_Quantity'),\n",
       "  Text(0, 4, 'Unit_Cost'),\n",
       "  Text(0, 5, 'Unit_Price'),\n",
       "  Text(0, 6, 'Profit'),\n",
       "  Text(0, 7, 'Cost'),\n",
       "  Text(0, 8, 'Revenue')])"
      ]
     },
     "execution_count": 14,
     "metadata": {},
     "output_type": "execute_result"
    },
    {
     "data": {
      "image/png": "[encoded data removed]",
      "text/plain": [
       "<Figure size 576x576 with 1 Axes>"
      ]
     },
     "metadata": {
      "needs_background": "light"
     },
     "output_type": "display_data"
    }
   ],
   "source": [
    "fig = plt.figure(figsize=(8,8))\n",
    "plt.matshow(corr, cmap='RdBu', fignum=fig.number)\n",
    "plt.xticks(range(len(corr.columns)), corr.columns, rotation='vertical')\n",
    "plt.yticks(range(len(corr.columns)), corr.columns)"
   ]
  },
  {
   "cell_type": "code",
   "execution_count": 15,
   "id": "16748c16",
   "metadata": {
    "execution": {
     "iopub.execute_input": "2022-10-18T12:10:59.923361Z",
     "iopub.status.busy": "2022-10-18T12:10:59.922768Z",
     "iopub.status.idle": "2022-10-18T12:11:00.432194Z",
     "shell.execute_reply": "2022-10-18T12:11:00.431458Z"
    },
    "papermill": {
     "duration": 0.522634,
     "end_time": "2022-10-18T12:11:00.434220",
     "exception": false,
     "start_time": "2022-10-18T12:10:59.911586",
     "status": "completed"
    },
    "tags": []
   },
   "outputs": [
    {
     "data": {
      "text/plain": [
       "<AxesSubplot:xlabel='Customer_Age', ylabel='Revenue'>"
      ]
     },
     "execution_count": 15,
     "metadata": {},
     "output_type": "execute_result"
    },
    {
     "data": {
      "image/png": "[encoded data removed]",
      "text/plain": [
       "<Figure size 432x432 with 1 Axes>"
      ]
     },
     "metadata": {
      "needs_background": "light"
     },
     "output_type": "display_data"
    }
   ],
   "source": [
    "sales_data.plot(kind=\"scatter\",x = \"Customer_Age\" , y = \"Revenue\" , figsize=(6,6))"
   ]
  },
  {
   "cell_type": "code",
   "execution_count": 16,
   "id": "4cb0d726",
   "metadata": {
    "execution": {
     "iopub.execute_input": "2022-10-18T12:11:00.455817Z",
     "iopub.status.busy": "2022-10-18T12:11:00.455483Z",
     "iopub.status.idle": "2022-10-18T12:11:01.000712Z",
     "shell.execute_reply": "2022-10-18T12:11:00.999744Z"
    },
    "papermill": {
     "duration": 0.557933,
     "end_time": "2022-10-18T12:11:01.002640",
     "exception": false,
     "start_time": "2022-10-18T12:11:00.444707",
     "status": "completed"
    },
    "tags": []
   },
   "outputs": [
    {
     "data": {
      "text/plain": [
       "<AxesSubplot:xlabel='Revenue', ylabel='Profit'>"
      ]
     },
     "execution_count": 16,
     "metadata": {},
     "output_type": "execute_result"
    },
    {
     "data": {
      "image/png": "[encoded data removed]",
      "text/plain": [
       "<Figure size 432x432 with 1 Axes>"
      ]
     },
     "metadata": {
      "needs_background": "light"
     },
     "output_type": "display_data"
    }
   ],
   "source": [
    "sales_data.plot(kind=\"scatter\",x = \"Revenue\" , y = \"Profit\" , figsize=(6,6))"
   ]
  },
  {
   "cell_type": "code",
   "execution_count": 17,
   "id": "a9233af8",
   "metadata": {
    "execution": {
     "iopub.execute_input": "2022-10-18T12:11:01.024697Z",
     "iopub.status.busy": "2022-10-18T12:11:01.024366Z",
     "iopub.status.idle": "2022-10-18T12:11:01.363134Z",
     "shell.execute_reply": "2022-10-18T12:11:01.362145Z"
    },
    "papermill": {
     "duration": 0.352171,
     "end_time": "2022-10-18T12:11:01.365321",
     "exception": false,
     "start_time": "2022-10-18T12:11:01.013150",
     "status": "completed"
    },
    "tags": []
   },
   "outputs": [
    {
     "data": {
      "image/png": "[encoded data removed]",
      "text/plain": [
       "<Figure size 576x288 with 1 Axes>"
      ]
     },
     "metadata": {
      "needs_background": "light"
     },
     "output_type": "display_data"
    }
   ],
   "source": [
    "ax= sales_data[[\"Profit\",\"Age_Group\"]].boxplot(by=\"Age_Group\", figsize=(8,4))"
   ]
  },
  {
   "cell_type": "code",
   "execution_count": 18,
   "id": "92ce6e82",
   "metadata": {
    "execution": {
     "iopub.execute_input": "2022-10-18T12:11:01.389991Z",
     "iopub.status.busy": "2022-10-18T12:11:01.389151Z",
     "iopub.status.idle": "2022-10-18T12:11:02.135187Z",
     "shell.execute_reply": "2022-10-18T12:11:02.134286Z"
    },
    "papermill": {
     "duration": 0.760707,
     "end_time": "2022-10-18T12:11:02.137825",
     "exception": false,
     "start_time": "2022-10-18T12:11:01.377118",
     "status": "completed"
    },
    "tags": []
   },
   "outputs": [
    {
     "data": {
      "text/plain": [
       "Year                 AxesSubplot(0.125,0.536818;0.227941x0.343182)\n",
       "Customer_Age      AxesSubplot(0.398529,0.536818;0.227941x0.343182)\n",
       "Order_Quantity    AxesSubplot(0.672059,0.536818;0.227941x0.343182)\n",
       "Unit_Cost               AxesSubplot(0.125,0.125;0.227941x0.343182)\n",
       "Unit_Price           AxesSubplot(0.398529,0.125;0.227941x0.343182)\n",
       "Profit               AxesSubplot(0.672059,0.125;0.227941x0.343182)\n",
       "dtype: object"
      ]
     },
     "execution_count": 18,
     "metadata": {},
     "output_type": "execute_result"
    },
    {
     "data": {
      "image/png": "[encoded data removed]",
      "text/plain": [
       "<Figure size 1008x576 with 6 Axes>"
      ]
     },
     "metadata": {
      "needs_background": "light"
     },
     "output_type": "display_data"
    }
   ],
   "source": [
    "boxplot_colm=[\"Year\",\"Customer_Age\",\"Order_Quantity\",\"Unit_Cost\",\"Unit_Price\",\"Profit\"]\n",
    "sales_data[boxplot_colm].plot(kind=\"box\",subplots=True,layout=(2,3),figsize=(14,8))"
   ]
  },
  {
   "cell_type": "markdown",
   "id": "b01d44ac",
   "metadata": {
    "papermill": {
     "duration": 0.010796,
     "end_time": "2022-10-18T12:11:02.163884",
     "exception": false,
     "start_time": "2022-10-18T12:11:02.153088",
     "status": "completed"
    },
    "tags": []
   },
   "source": [
    "# Column Wrangling\n",
    "* Create new column and modify"
   ]
  },
  {
   "cell_type": "code",
   "execution_count": 19,
   "id": "899e5f89",
   "metadata": {
    "execution": {
     "iopub.execute_input": "2022-10-18T12:11:02.187798Z",
     "iopub.status.busy": "2022-10-18T12:11:02.186964Z",
     "iopub.status.idle": "2022-10-18T12:11:02.193461Z",
     "shell.execute_reply": "2022-10-18T12:11:02.192646Z"
    },
    "papermill": {
     "duration": 0.020894,
     "end_time": "2022-10-18T12:11:02.195636",
     "exception": false,
     "start_time": "2022-10-18T12:11:02.174742",
     "status": "completed"
    },
    "tags": []
   },
   "outputs": [],
   "source": [
    "sales_data[\"Revenue_Age\"]= sales_data[\"Revenue\"]/sales_data[\"Customer_Age\"]"
   ]
  },
  {
   "cell_type": "code",
   "execution_count": 20,
   "id": "18b0fe06",
   "metadata": {
    "execution": {
     "iopub.execute_input": "2022-10-18T12:11:02.219924Z",
     "iopub.status.busy": "2022-10-18T12:11:02.219576Z",
     "iopub.status.idle": "2022-10-18T12:11:02.227458Z",
     "shell.execute_reply": "2022-10-18T12:11:02.226644Z"
    },
    "papermill": {
     "duration": 0.022361,
     "end_time": "2022-10-18T12:11:02.229572",
     "exception": false,
     "start_time": "2022-10-18T12:11:02.207211",
     "status": "completed"
    },
    "tags": []
   },
   "outputs": [
    {
     "data": {
      "text/plain": [
       "0    50.000000\n",
       "1    50.000000\n",
       "2    49.000000\n",
       "3    42.612245\n",
       "4     8.893617\n",
       "Name: Revenue_Age, dtype: float64"
      ]
     },
     "execution_count": 20,
     "metadata": {},
     "output_type": "execute_result"
    }
   ],
   "source": [
    "sales_data[\"Revenue_Age\"].head()"
   ]
  },
  {
   "cell_type": "code",
   "execution_count": 21,
   "id": "8ec42387",
   "metadata": {
    "execution": {
     "iopub.execute_input": "2022-10-18T12:11:02.259212Z",
     "iopub.status.busy": "2022-10-18T12:11:02.258561Z",
     "iopub.status.idle": "2022-10-18T12:11:04.177973Z",
     "shell.execute_reply": "2022-10-18T12:11:04.177177Z"
    },
    "papermill": {
     "duration": 1.933686,
     "end_time": "2022-10-18T12:11:04.179849",
     "exception": false,
     "start_time": "2022-10-18T12:11:02.246163",
     "status": "completed"
    },
    "tags": []
   },
   "outputs": [
    {
     "data": {
      "text/plain": [
       "<AxesSubplot:ylabel='Density'>"
      ]
     },
     "execution_count": 21,
     "metadata": {},
     "output_type": "execute_result"
    },
    {
     "data": {
      "image/png": "[encoded data removed]",
      "text/plain": [
       "<Figure size 1008x432 with 1 Axes>"
      ]
     },
     "metadata": {
      "needs_background": "light"
     },
     "output_type": "display_data"
    }
   ],
   "source": [
    "sales_data[\"Revenue_Age\"].plot(kind=\"density\", figsize=(14,6))"
   ]
  },
  {
   "cell_type": "code",
   "execution_count": 22,
   "id": "bb8f85e6",
   "metadata": {
    "execution": {
     "iopub.execute_input": "2022-10-18T12:11:04.213769Z",
     "iopub.status.busy": "2022-10-18T12:11:04.213427Z",
     "iopub.status.idle": "2022-10-18T12:11:04.442548Z",
     "shell.execute_reply": "2022-10-18T12:11:04.441597Z"
    },
    "papermill": {
     "duration": 0.248803,
     "end_time": "2022-10-18T12:11:04.444580",
     "exception": false,
     "start_time": "2022-10-18T12:11:04.195777",
     "status": "completed"
    },
    "tags": []
   },
   "outputs": [
    {
     "data": {
      "text/plain": [
       "<AxesSubplot:ylabel='Frequency'>"
      ]
     },
     "execution_count": 22,
     "metadata": {},
     "output_type": "execute_result"
    },
    {
     "data": {
      "image/png": "[encoded data removed]",
      "text/plain": [
       "<Figure size 1008x432 with 1 Axes>"
      ]
     },
     "metadata": {
      "needs_background": "light"
     },
     "output_type": "display_data"
    }
   ],
   "source": [
    "sales_data[\"Revenue_Age\"].plot(kind=\"hist\", figsize=(14,6))"
   ]
  },
  {
   "cell_type": "code",
   "execution_count": 23,
   "id": "ef551007",
   "metadata": {
    "execution": {
     "iopub.execute_input": "2022-10-18T12:11:04.470010Z",
     "iopub.status.busy": "2022-10-18T12:11:04.469133Z",
     "iopub.status.idle": "2022-10-18T12:11:04.474700Z",
     "shell.execute_reply": "2022-10-18T12:11:04.473875Z"
    },
    "papermill": {
     "duration": 0.020091,
     "end_time": "2022-10-18T12:11:04.476644",
     "exception": false,
     "start_time": "2022-10-18T12:11:04.456553",
     "status": "completed"
    },
    "tags": []
   },
   "outputs": [],
   "source": [
    "sales_data[\"Calc_Cost\"]=sales_data[\"Unit_Cost\"]*sales_data[\"Order_Quantity\"]"
   ]
  },
  {
   "cell_type": "code",
   "execution_count": 24,
   "id": "da61eab3",
   "metadata": {
    "execution": {
     "iopub.execute_input": "2022-10-18T12:11:04.501161Z",
     "iopub.status.busy": "2022-10-18T12:11:04.500647Z",
     "iopub.status.idle": "2022-10-18T12:11:04.506405Z",
     "shell.execute_reply": "2022-10-18T12:11:04.505774Z"
    },
    "papermill": {
     "duration": 0.019827,
     "end_time": "2022-10-18T12:11:04.507956",
     "exception": false,
     "start_time": "2022-10-18T12:11:04.488129",
     "status": "completed"
    },
    "tags": []
   },
   "outputs": [
    {
     "data": {
      "text/plain": [
       "0     360\n",
       "1     360\n",
       "2    1035\n",
       "3     900\n",
       "4     180\n",
       "Name: Calc_Cost, dtype: int64"
      ]
     },
     "execution_count": 24,
     "metadata": {},
     "output_type": "execute_result"
    }
   ],
   "source": [
    "sales_data[\"Calc_Cost\"].head()"
   ]
  },
  {
   "cell_type": "code",
   "execution_count": 25,
   "id": "2db4db82",
   "metadata": {
    "execution": {
     "iopub.execute_input": "2022-10-18T12:11:04.532846Z",
     "iopub.status.busy": "2022-10-18T12:11:04.532439Z",
     "iopub.status.idle": "2022-10-18T12:11:04.538128Z",
     "shell.execute_reply": "2022-10-18T12:11:04.537528Z"
    },
    "papermill": {
     "duration": 0.019811,
     "end_time": "2022-10-18T12:11:04.539681",
     "exception": false,
     "start_time": "2022-10-18T12:11:04.519870",
     "status": "completed"
    },
    "tags": []
   },
   "outputs": [
    {
     "data": {
      "text/plain": [
       "True"
      ]
     },
     "execution_count": 25,
     "metadata": {},
     "output_type": "execute_result"
    }
   ],
   "source": [
    "sales_data[\"Cost\"].sum() == sales_data[\"Calc_Cost\"].sum()"
   ]
  },
  {
   "cell_type": "code",
   "execution_count": 26,
   "id": "f95cef4e",
   "metadata": {
    "execution": {
     "iopub.execute_input": "2022-10-18T12:11:04.564529Z",
     "iopub.status.busy": "2022-10-18T12:11:04.564263Z",
     "iopub.status.idle": "2022-10-18T12:11:05.126452Z",
     "shell.execute_reply": "2022-10-18T12:11:05.125778Z"
    },
    "papermill": {
     "duration": 0.576927,
     "end_time": "2022-10-18T12:11:05.128768",
     "exception": false,
     "start_time": "2022-10-18T12:11:04.551841",
     "status": "completed"
    },
    "tags": []
   },
   "outputs": [
    {
     "data": {
      "text/plain": [
       "<AxesSubplot:xlabel='Calc_Cost', ylabel='Profit'>"
      ]
     },
     "execution_count": 26,
     "metadata": {},
     "output_type": "execute_result"
    },
    {
     "data": {
      "image/png": "[encoded data removed]",
      "text/plain": [
       "<Figure size 432x432 with 1 Axes>"
      ]
     },
     "metadata": {
      "needs_background": "light"
     },
     "output_type": "display_data"
    }
   ],
   "source": [
    "sales_data.plot(kind=\"scatter\",x = \"Calc_Cost\" , y = \"Profit\" , figsize=(6,6))"
   ]
  },
  {
   "cell_type": "code",
   "execution_count": 27,
   "id": "1a6fb288",
   "metadata": {
    "execution": {
     "iopub.execute_input": "2022-10-18T12:11:05.156409Z",
     "iopub.status.busy": "2022-10-18T12:11:05.155974Z",
     "iopub.status.idle": "2022-10-18T12:11:05.161157Z",
     "shell.execute_reply": "2022-10-18T12:11:05.160075Z"
    },
    "papermill": {
     "duration": 0.02054,
     "end_time": "2022-10-18T12:11:05.162951",
     "exception": false,
     "start_time": "2022-10-18T12:11:05.142411",
     "status": "completed"
    },
    "tags": []
   },
   "outputs": [],
   "source": [
    "sales_data[\"Calc_Revenue\"]=sales_data[\"Cost\"]+sales_data[\"Profit\"]"
   ]
  },
  {
   "cell_type": "code",
   "execution_count": 28,
   "id": "7002bce1",
   "metadata": {
    "execution": {
     "iopub.execute_input": "2022-10-18T12:11:05.189060Z",
     "iopub.status.busy": "2022-10-18T12:11:05.188764Z",
     "iopub.status.idle": "2022-10-18T12:11:05.195582Z",
     "shell.execute_reply": "2022-10-18T12:11:05.194581Z"
    },
    "papermill": {
     "duration": 0.022211,
     "end_time": "2022-10-18T12:11:05.197518",
     "exception": false,
     "start_time": "2022-10-18T12:11:05.175307",
     "status": "completed"
    },
    "tags": []
   },
   "outputs": [
    {
     "data": {
      "text/plain": [
       "0     950\n",
       "1     950\n",
       "2    2401\n",
       "3    2088\n",
       "4     418\n",
       "Name: Calc_Revenue, dtype: int64"
      ]
     },
     "execution_count": 28,
     "metadata": {},
     "output_type": "execute_result"
    }
   ],
   "source": [
    "sales_data[\"Calc_Revenue\"].head()"
   ]
  },
  {
   "cell_type": "code",
   "execution_count": 29,
   "id": "2c72980d",
   "metadata": {
    "execution": {
     "iopub.execute_input": "2022-10-18T12:11:05.224023Z",
     "iopub.status.busy": "2022-10-18T12:11:05.223568Z",
     "iopub.status.idle": "2022-10-18T12:11:05.707707Z",
     "shell.execute_reply": "2022-10-18T12:11:05.706758Z"
    },
    "papermill": {
     "duration": 0.499845,
     "end_time": "2022-10-18T12:11:05.709812",
     "exception": false,
     "start_time": "2022-10-18T12:11:05.209967",
     "status": "completed"
    },
    "tags": []
   },
   "outputs": [
    {
     "data": {
      "text/plain": [
       "<AxesSubplot:ylabel='Frequency'>"
      ]
     },
     "execution_count": 29,
     "metadata": {},
     "output_type": "execute_result"
    },
    {
     "data": {
      "image/png": "[encoded data removed]",
      "text/plain": [
       "<Figure size 1008x432 with 1 Axes>"
      ]
     },
     "metadata": {
      "needs_background": "light"
     },
     "output_type": "display_data"
    }
   ],
   "source": [
    "sales_data[\"Revenue\"].plot(kind=\"hist\", bins=100,figsize=(14,6))"
   ]
  },
  {
   "cell_type": "markdown",
   "id": "0adff0eb",
   "metadata": {
    "papermill": {
     "duration": 0.012666,
     "end_time": "2022-10-18T12:11:05.735680",
     "exception": false,
     "start_time": "2022-10-18T12:11:05.723014",
     "status": "completed"
    },
    "tags": []
   },
   "source": [
    "# Selection & Indexing:"
   ]
  },
  {
   "cell_type": "code",
   "execution_count": 30,
   "id": "d44c9a31",
   "metadata": {
    "execution": {
     "iopub.execute_input": "2022-10-18T12:11:05.762556Z",
     "iopub.status.busy": "2022-10-18T12:11:05.762232Z",
     "iopub.status.idle": "2022-10-18T12:11:05.799663Z",
     "shell.execute_reply": "2022-10-18T12:11:05.798717Z"
    },
    "papermill": {
     "duration": 0.053274,
     "end_time": "2022-10-18T12:11:05.801517",
     "exception": false,
     "start_time": "2022-10-18T12:11:05.748243",
     "status": "completed"
    },
    "tags": []
   },
   "outputs": [
    {
     "data": {
      "text/html": [
       "<div>\n",
       "<style scoped>\n",
       "    .dataframe tbody tr th:only-of-type {\n",
       "        vertical-align: middle;\n",
       "    }\n",
       "\n",
       "    .dataframe tbody tr th {\n",
       "        vertical-align: top;\n",
       "    }\n",
       "\n",
       "    .dataframe thead th {\n",
       "        text-align: right;\n",
       "    }\n",
       "</style>\n",
       "<table border=\"1\" class=\"dataframe\">\n",
       "  <thead>\n",
       "    <tr style=\"text-align: right;\">\n",
       "      <th></th>\n",
       "      <th>Date</th>\n",
       "      <th>Day</th>\n",
       "      <th>Month</th>\n",
       "      <th>Year</th>\n",
       "      <th>Customer_Age</th>\n",
       "      <th>Age_Group</th>\n",
       "      <th>Customer_Gender</th>\n",
       "      <th>Country</th>\n",
       "      <th>State</th>\n",
       "      <th>Product_Category</th>\n",
       "      <th>...</th>\n",
       "      <th>Product</th>\n",
       "      <th>Order_Quantity</th>\n",
       "      <th>Unit_Cost</th>\n",
       "      <th>Unit_Price</th>\n",
       "      <th>Profit</th>\n",
       "      <th>Cost</th>\n",
       "      <th>Revenue</th>\n",
       "      <th>Revenue_Age</th>\n",
       "      <th>Calc_Cost</th>\n",
       "      <th>Calc_Revenue</th>\n",
       "    </tr>\n",
       "  </thead>\n",
       "  <tbody>\n",
       "    <tr>\n",
       "      <th>156</th>\n",
       "      <td>2013-11-04</td>\n",
       "      <td>4</td>\n",
       "      <td>November</td>\n",
       "      <td>2013</td>\n",
       "      <td>40</td>\n",
       "      <td>Adults (35-64)</td>\n",
       "      <td>M</td>\n",
       "      <td>United States</td>\n",
       "      <td>Kentucky</td>\n",
       "      <td>Accessories</td>\n",
       "      <td>...</td>\n",
       "      <td>Hitch Rack - 4-Bike</td>\n",
       "      <td>1</td>\n",
       "      <td>45</td>\n",
       "      <td>120</td>\n",
       "      <td>63</td>\n",
       "      <td>45</td>\n",
       "      <td>108</td>\n",
       "      <td>2.700</td>\n",
       "      <td>45</td>\n",
       "      <td>108</td>\n",
       "    </tr>\n",
       "    <tr>\n",
       "      <th>157</th>\n",
       "      <td>2015-11-04</td>\n",
       "      <td>4</td>\n",
       "      <td>November</td>\n",
       "      <td>2015</td>\n",
       "      <td>40</td>\n",
       "      <td>Adults (35-64)</td>\n",
       "      <td>M</td>\n",
       "      <td>United States</td>\n",
       "      <td>Kentucky</td>\n",
       "      <td>Accessories</td>\n",
       "      <td>...</td>\n",
       "      <td>Hitch Rack - 4-Bike</td>\n",
       "      <td>1</td>\n",
       "      <td>45</td>\n",
       "      <td>120</td>\n",
       "      <td>63</td>\n",
       "      <td>45</td>\n",
       "      <td>108</td>\n",
       "      <td>2.700</td>\n",
       "      <td>45</td>\n",
       "      <td>108</td>\n",
       "    </tr>\n",
       "    <tr>\n",
       "      <th>23826</th>\n",
       "      <td>2014-04-16</td>\n",
       "      <td>16</td>\n",
       "      <td>April</td>\n",
       "      <td>2014</td>\n",
       "      <td>40</td>\n",
       "      <td>Adults (35-64)</td>\n",
       "      <td>M</td>\n",
       "      <td>United States</td>\n",
       "      <td>Kentucky</td>\n",
       "      <td>Accessories</td>\n",
       "      <td>...</td>\n",
       "      <td>Fender Set - Mountain</td>\n",
       "      <td>12</td>\n",
       "      <td>8</td>\n",
       "      <td>22</td>\n",
       "      <td>142</td>\n",
       "      <td>96</td>\n",
       "      <td>238</td>\n",
       "      <td>5.950</td>\n",
       "      <td>96</td>\n",
       "      <td>238</td>\n",
       "    </tr>\n",
       "    <tr>\n",
       "      <th>23827</th>\n",
       "      <td>2016-04-16</td>\n",
       "      <td>16</td>\n",
       "      <td>April</td>\n",
       "      <td>2016</td>\n",
       "      <td>40</td>\n",
       "      <td>Adults (35-64)</td>\n",
       "      <td>M</td>\n",
       "      <td>United States</td>\n",
       "      <td>Kentucky</td>\n",
       "      <td>Accessories</td>\n",
       "      <td>...</td>\n",
       "      <td>Fender Set - Mountain</td>\n",
       "      <td>14</td>\n",
       "      <td>8</td>\n",
       "      <td>22</td>\n",
       "      <td>165</td>\n",
       "      <td>112</td>\n",
       "      <td>277</td>\n",
       "      <td>6.925</td>\n",
       "      <td>112</td>\n",
       "      <td>277</td>\n",
       "    </tr>\n",
       "    <tr>\n",
       "      <th>31446</th>\n",
       "      <td>2014-04-16</td>\n",
       "      <td>16</td>\n",
       "      <td>April</td>\n",
       "      <td>2014</td>\n",
       "      <td>40</td>\n",
       "      <td>Adults (35-64)</td>\n",
       "      <td>M</td>\n",
       "      <td>United States</td>\n",
       "      <td>Kentucky</td>\n",
       "      <td>Accessories</td>\n",
       "      <td>...</td>\n",
       "      <td>Sport-100 Helmet, Blue</td>\n",
       "      <td>29</td>\n",
       "      <td>13</td>\n",
       "      <td>35</td>\n",
       "      <td>537</td>\n",
       "      <td>377</td>\n",
       "      <td>914</td>\n",
       "      <td>22.850</td>\n",
       "      <td>377</td>\n",
       "      <td>914</td>\n",
       "    </tr>\n",
       "    <tr>\n",
       "      <th>31447</th>\n",
       "      <td>2016-04-16</td>\n",
       "      <td>16</td>\n",
       "      <td>April</td>\n",
       "      <td>2016</td>\n",
       "      <td>40</td>\n",
       "      <td>Adults (35-64)</td>\n",
       "      <td>M</td>\n",
       "      <td>United States</td>\n",
       "      <td>Kentucky</td>\n",
       "      <td>Accessories</td>\n",
       "      <td>...</td>\n",
       "      <td>Sport-100 Helmet, Blue</td>\n",
       "      <td>31</td>\n",
       "      <td>13</td>\n",
       "      <td>35</td>\n",
       "      <td>574</td>\n",
       "      <td>403</td>\n",
       "      <td>977</td>\n",
       "      <td>24.425</td>\n",
       "      <td>403</td>\n",
       "      <td>977</td>\n",
       "    </tr>\n",
       "    <tr>\n",
       "      <th>79670</th>\n",
       "      <td>2014-04-16</td>\n",
       "      <td>16</td>\n",
       "      <td>April</td>\n",
       "      <td>2014</td>\n",
       "      <td>40</td>\n",
       "      <td>Adults (35-64)</td>\n",
       "      <td>M</td>\n",
       "      <td>United States</td>\n",
       "      <td>Kentucky</td>\n",
       "      <td>Accessories</td>\n",
       "      <td>...</td>\n",
       "      <td>ML Mountain Tire</td>\n",
       "      <td>2</td>\n",
       "      <td>11</td>\n",
       "      <td>30</td>\n",
       "      <td>32</td>\n",
       "      <td>22</td>\n",
       "      <td>54</td>\n",
       "      <td>1.350</td>\n",
       "      <td>22</td>\n",
       "      <td>54</td>\n",
       "    </tr>\n",
       "    <tr>\n",
       "      <th>79671</th>\n",
       "      <td>2014-04-16</td>\n",
       "      <td>16</td>\n",
       "      <td>April</td>\n",
       "      <td>2014</td>\n",
       "      <td>40</td>\n",
       "      <td>Adults (35-64)</td>\n",
       "      <td>M</td>\n",
       "      <td>United States</td>\n",
       "      <td>Kentucky</td>\n",
       "      <td>Accessories</td>\n",
       "      <td>...</td>\n",
       "      <td>ML Mountain Tire</td>\n",
       "      <td>21</td>\n",
       "      <td>11</td>\n",
       "      <td>30</td>\n",
       "      <td>336</td>\n",
       "      <td>231</td>\n",
       "      <td>567</td>\n",
       "      <td>14.175</td>\n",
       "      <td>231</td>\n",
       "      <td>567</td>\n",
       "    </tr>\n",
       "    <tr>\n",
       "      <th>79672</th>\n",
       "      <td>2016-04-16</td>\n",
       "      <td>16</td>\n",
       "      <td>April</td>\n",
       "      <td>2016</td>\n",
       "      <td>40</td>\n",
       "      <td>Adults (35-64)</td>\n",
       "      <td>M</td>\n",
       "      <td>United States</td>\n",
       "      <td>Kentucky</td>\n",
       "      <td>Accessories</td>\n",
       "      <td>...</td>\n",
       "      <td>ML Mountain Tire</td>\n",
       "      <td>1</td>\n",
       "      <td>11</td>\n",
       "      <td>30</td>\n",
       "      <td>16</td>\n",
       "      <td>11</td>\n",
       "      <td>27</td>\n",
       "      <td>0.675</td>\n",
       "      <td>11</td>\n",
       "      <td>27</td>\n",
       "    </tr>\n",
       "    <tr>\n",
       "      <th>79673</th>\n",
       "      <td>2016-04-16</td>\n",
       "      <td>16</td>\n",
       "      <td>April</td>\n",
       "      <td>2016</td>\n",
       "      <td>40</td>\n",
       "      <td>Adults (35-64)</td>\n",
       "      <td>M</td>\n",
       "      <td>United States</td>\n",
       "      <td>Kentucky</td>\n",
       "      <td>Accessories</td>\n",
       "      <td>...</td>\n",
       "      <td>ML Mountain Tire</td>\n",
       "      <td>18</td>\n",
       "      <td>11</td>\n",
       "      <td>30</td>\n",
       "      <td>288</td>\n",
       "      <td>198</td>\n",
       "      <td>486</td>\n",
       "      <td>12.150</td>\n",
       "      <td>198</td>\n",
       "      <td>486</td>\n",
       "    </tr>\n",
       "  </tbody>\n",
       "</table>\n",
       "<p>10 rows × 21 columns</p>\n",
       "</div>"
      ],
      "text/plain": [
       "             Date  Day     Month  Year  Customer_Age       Age_Group  \\\n",
       "156    2013-11-04    4  November  2013            40  Adults (35-64)   \n",
       "157    2015-11-04    4  November  2015            40  Adults (35-64)   \n",
       "23826  2014-04-16   16     April  2014            40  Adults (35-64)   \n",
       "23827  2016-04-16   16     April  2016            40  Adults (35-64)   \n",
       "31446  2014-04-16   16     April  2014            40  Adults (35-64)   \n",
       "31447  2016-04-16   16     April  2016            40  Adults (35-64)   \n",
       "79670  2014-04-16   16     April  2014            40  Adults (35-64)   \n",
       "79671  2014-04-16   16     April  2014            40  Adults (35-64)   \n",
       "79672  2016-04-16   16     April  2016            40  Adults (35-64)   \n",
       "79673  2016-04-16   16     April  2016            40  Adults (35-64)   \n",
       "\n",
       "      Customer_Gender        Country     State Product_Category  ...  \\\n",
       "156                 M  United States  Kentucky      Accessories  ...   \n",
       "157                 M  United States  Kentucky      Accessories  ...   \n",
       "23826               M  United States  Kentucky      Accessories  ...   \n",
       "23827               M  United States  Kentucky      Accessories  ...   \n",
       "31446               M  United States  Kentucky      Accessories  ...   \n",
       "31447               M  United States  Kentucky      Accessories  ...   \n",
       "79670               M  United States  Kentucky      Accessories  ...   \n",
       "79671               M  United States  Kentucky      Accessories  ...   \n",
       "79672               M  United States  Kentucky      Accessories  ...   \n",
       "79673               M  United States  Kentucky      Accessories  ...   \n",
       "\n",
       "                      Product Order_Quantity  Unit_Cost  Unit_Price  Profit  \\\n",
       "156       Hitch Rack - 4-Bike              1         45         120      63   \n",
       "157       Hitch Rack - 4-Bike              1         45         120      63   \n",
       "23826   Fender Set - Mountain             12          8          22     142   \n",
       "23827   Fender Set - Mountain             14          8          22     165   \n",
       "31446  Sport-100 Helmet, Blue             29         13          35     537   \n",
       "31447  Sport-100 Helmet, Blue             31         13          35     574   \n",
       "79670        ML Mountain Tire              2         11          30      32   \n",
       "79671        ML Mountain Tire             21         11          30     336   \n",
       "79672        ML Mountain Tire              1         11          30      16   \n",
       "79673        ML Mountain Tire             18         11          30     288   \n",
       "\n",
       "       Cost  Revenue  Revenue_Age  Calc_Cost  Calc_Revenue  \n",
       "156      45      108        2.700         45           108  \n",
       "157      45      108        2.700         45           108  \n",
       "23826    96      238        5.950         96           238  \n",
       "23827   112      277        6.925        112           277  \n",
       "31446   377      914       22.850        377           914  \n",
       "31447   403      977       24.425        403           977  \n",
       "79670    22       54        1.350         22            54  \n",
       "79671   231      567       14.175        231           567  \n",
       "79672    11       27        0.675         11            27  \n",
       "79673   198      486       12.150        198           486  \n",
       "\n",
       "[10 rows x 21 columns]"
      ]
     },
     "execution_count": 30,
     "metadata": {},
     "output_type": "execute_result"
    }
   ],
   "source": [
    "sales_data.loc[sales_data[\"State\"]== 'Kentucky']  # select only Kentucky"
   ]
  },
  {
   "cell_type": "code",
   "execution_count": 31,
   "id": "dd7647aa",
   "metadata": {
    "execution": {
     "iopub.execute_input": "2022-10-18T12:11:05.829313Z",
     "iopub.status.busy": "2022-10-18T12:11:05.828834Z",
     "iopub.status.idle": "2022-10-18T12:11:05.842099Z",
     "shell.execute_reply": "2022-10-18T12:11:05.841302Z"
    },
    "papermill": {
     "duration": 0.028872,
     "end_time": "2022-10-18T12:11:05.843780",
     "exception": false,
     "start_time": "2022-10-18T12:11:05.814908",
     "status": "completed"
    },
    "tags": []
   },
   "outputs": [
    {
     "data": {
      "text/plain": [
       "762.8287654055604"
      ]
     },
     "execution_count": 31,
     "metadata": {},
     "output_type": "execute_result"
    }
   ],
   "source": [
    " sales_data.loc[sales_data['Age_Group'] == 'Adults (35-64)','Revenue'].mean() #Average income of those aged 35-64"
   ]
  },
  {
   "cell_type": "code",
   "execution_count": 32,
   "id": "13eab1f6",
   "metadata": {
    "execution": {
     "iopub.execute_input": "2022-10-18T12:11:05.871323Z",
     "iopub.status.busy": "2022-10-18T12:11:05.871058Z",
     "iopub.status.idle": "2022-10-18T12:11:05.901048Z",
     "shell.execute_reply": "2022-10-18T12:11:05.900326Z"
    },
    "papermill": {
     "duration": 0.046081,
     "end_time": "2022-10-18T12:11:05.902798",
     "exception": false,
     "start_time": "2022-10-18T12:11:05.856717",
     "status": "completed"
    },
    "tags": []
   },
   "outputs": [
    {
     "data": {
      "text/plain": [
       "(73652, 21)"
      ]
     },
     "execution_count": 32,
     "metadata": {},
     "output_type": "execute_result"
    }
   ],
   "source": [
    " sales_data.loc[( sales_data['Age_Group'] == 'Youth (<25)') | ( sales_data['Age_Group'] == 'Adults (35-64)')].shape"
   ]
  },
  {
   "cell_type": "markdown",
   "id": "0941557d",
   "metadata": {
    "papermill": {
     "duration": 0.012852,
     "end_time": "2022-10-18T12:11:05.929432",
     "exception": false,
     "start_time": "2022-10-18T12:11:05.916580",
     "status": "completed"
    },
    "tags": []
   },
   "source": [
    "# GOOD WORK"
   ]
  }
 ],
 "metadata": {
  "kernelspec": {
   "display_name": "Python 3",
   "language": "python",
   "name": "python3"
  },
  "language_info": {
   "codemirror_mode": {
    "name": "ipython",
    "version": 3
   },
   "file_extension": ".py",
   "mimetype": "text/x-python",
   "name": "python",
   "nbconvert_exporter": "python",
   "pygments_lexer": "ipython3",
   "version": "3.7.12"
  },
  "papermill": {
   "default_parameters": {},
   "duration": 20.558598,
   "end_time": "2022-10-18T12:11:06.562666",
   "environment_variables": {},
   "exception": null,
   "input_path": "__notebook__.ipynb",
   "output_path": "__notebook__.ipynb",
   "parameters": {},
   "start_time": "2022-10-18T12:10:46.004068",
   "version": "2.3.4"
  }
 },
 "nbformat": 4,
 "nbformat_minor": 5
}
